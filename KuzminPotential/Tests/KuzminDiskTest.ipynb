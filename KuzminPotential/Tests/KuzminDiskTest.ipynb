{
 "cells": [
  {
   "cell_type": "code",
   "execution_count": 940,
   "metadata": {},
   "outputs": [],
   "source": [
    "import sys\n",
    "sys.path.insert(0, './vis/python')\n",
    "import athena_read as ath \n",
    "import h5py\n",
    "import matplotlib.pyplot as plt\n",
    "import numpy as np\n",
    "from array import array\n",
    "\n",
    "data = ath.athdf(\"NGC5129.user.01200.athdf\")\n",
    "prim = ath.athdf(\"NGC5129.prim.01200.athdf\")"
   ]
  },
  {
   "cell_type": "code",
   "execution_count": 941,
   "metadata": {},
   "outputs": [],
   "source": [
    "radius_tmp = prim['x1v']\n",
    "theta_tmp = prim['x2v']\n",
    "smass = data['user_out_var3']"
   ]
  },
  {
   "cell_type": "markdown",
   "metadata": {},
   "source": [
    "### Save upper lower 4 rows to file"
   ]
  },
  {
   "cell_type": "code",
   "execution_count": 942,
   "metadata": {},
   "outputs": [],
   "source": [
    "updown4 = smass[0][13:17][:]\n",
    "massArray = array('f', [item for sublist1 in updown4 for item in sublist1])\n",
    "outputFile = open('massData', 'wb')\n",
    "massArray.tofile(outputFile)\n",
    "outputFile.close()"
   ]
  },
  {
   "cell_type": "code",
   "execution_count": null,
   "metadata": {},
   "outputs": [],
   "source": []
  },
  {
   "cell_type": "markdown",
   "metadata": {},
   "source": [
    "### Reproduce x1v and x2v including ghost cells"
   ]
  },
  {
   "cell_type": "code",
   "execution_count": 943,
   "metadata": {},
   "outputs": [],
   "source": [
    "theta=[]\n",
    "theta.append(6.2833767796342352e-02)\n",
    "theta.append(1.1666194923093506e-01)\n",
    "for item in theta_tmp:\n",
    "    theta.append(item)\n",
    "theta.append(3.0249282139086842e+00)\n",
    "theta.append(3.0787641928985394e+00)    "
   ]
  },
  {
   "cell_type": "code",
   "execution_count": 944,
   "metadata": {},
   "outputs": [],
   "source": [
    "radius=[]\n",
    "radius.append(2.1472816004449802e-03)\n",
    "radius.append(2.3816359872343624e-03)\n",
    "for item in radius_tmp:\n",
    "    radius.append(item)\n",
    "radius.append(2.6289653479143954e+02)\n",
    "radius.append(2.8918620527324964e+02)    "
   ]
  },
  {
   "cell_type": "markdown",
   "metadata": {},
   "source": [
    "13-16"
   ]
  },
  {
   "cell_type": "code",
   "execution_count": 945,
   "metadata": {},
   "outputs": [],
   "source": [
    "stellarMass=np.zeros((4,120))\n",
    "for i in range(4):\n",
    "    for j in range(120):\n",
    "        stellarMass[i][j]=updown4[i][j]"
   ]
  },
  {
   "cell_type": "code",
   "execution_count": null,
   "metadata": {},
   "outputs": [],
   "source": []
  },
  {
   "cell_type": "code",
   "execution_count": 946,
   "metadata": {},
   "outputs": [],
   "source": [
    "def getKuzminParams(stellarMass):\n",
    "    sumMass=np.zeros(120)\n",
    "    for j in range(120):\n",
    "        for i in range(4):\n",
    "            sumMass[j]+=stellarMass[i][j];\n",
    "            \n",
    "    for idx in np.arange(1,120):\n",
    "        sumMass[idx] += sumMass[idx-1]\n",
    "        \n",
    "    halfMass = sumMass[119] / 2\n",
    "    \n",
    "    for idx in range(120):\n",
    "        if (sumMass[idx] <= halfMass):\n",
    "            ihalfRadius = idx;\n",
    " \n",
    "#    return halfMass, ihalfRadius\n",
    "    return sumMass[119], radius[ihalfRadius+2]/np.sqrt(3);"
   ]
  },
  {
   "cell_type": "code",
   "execution_count": null,
   "metadata": {},
   "outputs": [],
   "source": []
  },
  {
   "cell_type": "code",
   "execution_count": 947,
   "metadata": {},
   "outputs": [
    {
     "data": {
      "text/plain": [
       "[<matplotlib.lines.Line2D at 0x11a66b7d0>]"
      ]
     },
     "execution_count": 947,
     "metadata": {},
     "output_type": "execute_result"
    },
    {
     "data": {
      "image/png": "[encoded data removed]",
      "text/plain": [
       "<Figure size 1152x720 with 1 Axes>"
      ]
     },
     "metadata": {
      "needs_background": "light"
     },
     "output_type": "display_data"
    }
   ],
   "source": [
    "# getKuzminParams(stellarMass)\n",
    "sumMass=np.zeros(120)\n",
    "for j in range(120):\n",
    "    for i in range(4):\n",
    "        sumMass[j]+=stellarMass[i][j];\n",
    "plt.figure(figsize=(16,10))\n",
    "plt.plot(sumMass)"
   ]
  },
  {
   "cell_type": "code",
   "execution_count": 948,
   "metadata": {},
   "outputs": [],
   "source": [
    "def getForce(G, M, a, i, j):\n",
    "    _r = radius[i];\n",
    "    _theta = theta[j];\n",
    "    rsin = _r * np.sin(_theta);\n",
    "    rcos = _r * np.cos(_theta);\n",
    "    denom = (rsin**2 + (a + abs(rcos))**2)**1.5\n",
    "    force_r = - G * M * (_r + a * abs(np.cos(_theta)))/denom;\n",
    "    force_theta = G * M * a * rsin * abs(np.cos(_theta)) / rcos / denom\n",
    "    return force_r, force_theta"
   ]
  },
  {
   "cell_type": "code",
   "execution_count": 949,
   "metadata": {},
   "outputs": [
    {
     "data": {
      "text/plain": [
       "(0.95870525, 0.0058823135)"
      ]
     },
     "execution_count": 949,
     "metadata": {},
     "output_type": "execute_result"
    }
   ],
   "source": [
    "theta[10], radius[10]"
   ]
  },
  {
   "cell_type": "code",
   "execution_count": 950,
   "metadata": {},
   "outputs": [],
   "source": [
    "def getKuzminPotential(G, M, a, i, j):\n",
    "    _r = radius[i];\n",
    "    _theta = theta[j];\n",
    "    rsin = _r * np.sin(_theta);\n",
    "    rcos = _r * np.cos(_theta);\n",
    "    denom = np.sqrt(rsin**2 + (abs(rcos)+a)**2)\n",
    "    return - G * M / denom"
   ]
  },
  {
   "cell_type": "code",
   "execution_count": 951,
   "metadata": {},
   "outputs": [],
   "source": [
    "Parsec = 3.0856e18\n",
    "SolarMass = 1.9891e33\n",
    "Year = 3.15367e7\n",
    "lunit = 1e3 * Parsec\n",
    "munit = 2.5e7 * SolarMass\n",
    "tunit = 1e9 * Year\n",
    "M = 4.8e9\n",
    "a = 2.585777e-2\n",
    "G = 6.67384e-8\n",
    "guniv = G / ((lunit**3) / munit / tunit**2)"
   ]
  },
  {
   "cell_type": "code",
   "execution_count": 956,
   "metadata": {},
   "outputs": [],
   "source": [
    "i = 17\n",
    "j= 0\n",
    "\n",
    "MM,aa = getKuzminParams(stellarMass)\n",
    "fr, ft = getForce(guniv, MM, aa, i, j)\n",
    "Phi = getKuzminPotential(guniv, MM, aa, i, j)"
   ]
  },
  {
   "cell_type": "code",
   "execution_count": 957,
   "metadata": {},
   "outputs": [
    {
     "data": {
      "text/plain": [
       "(7965316496.7098255,\n",
       " 0.003396155268256391,\n",
       " 112.35335168548728,\n",
       " -3955853084806533.0,\n",
       " 56095240848179.02,\n",
       " -59502668350433.95)"
      ]
     },
     "execution_count": 957,
     "metadata": {},
     "output_type": "execute_result"
    }
   ],
   "source": [
    "MM, aa, guniv, fr, ft, Phi"
   ]
  },
  {
   "cell_type": "code",
   "execution_count": 963,
   "metadata": {},
   "outputs": [],
   "source": [
    "original_stdout = sys.stdout\n",
    "with open('test_force_python','w') as f:    \n",
    "    sys.stdout = f\n",
    "    for j in range(34):\n",
    "        for i in range(124):\n",
    "            frr, ftt = getForce(guniv, MM, aa, i, j)\n",
    "            print(\"(%d, %d)  %4f  %4f\" %(i,j,frr, ftt)) \n",
    "    sys.stdout = original_stdout\n",
    "f.close()"
   ]
  },
  {
   "cell_type": "code",
   "execution_count": null,
   "metadata": {},
   "outputs": [],
   "source": []
  },
  {
   "cell_type": "code",
   "execution_count": null,
   "metadata": {},
   "outputs": [],
   "source": []
  },
  {
   "cell_type": "code",
   "execution_count": null,
   "metadata": {},
   "outputs": [],
   "source": []
  },
  {
   "cell_type": "code",
   "execution_count": null,
   "metadata": {},
   "outputs": [],
   "source": []
  },
  {
   "cell_type": "code",
   "execution_count": null,
   "metadata": {},
   "outputs": [],
   "source": []
  },
  {
   "cell_type": "code",
   "execution_count": null,
   "metadata": {},
   "outputs": [],
   "source": []
  },
  {
   "cell_type": "code",
   "execution_count": null,
   "metadata": {},
   "outputs": [],
   "source": []
  },
  {
   "cell_type": "raw",
   "metadata": {},
   "source": [
    "theta=np.zeros(34)\n",
    "theta[0]=(6.2833767796342352e-02)\n",
    "theta[1]=(1.1666194923093506e-01)\n",
    "theta[2]=(2.0777873722125817e-01)\n",
    "theta[3]=(3.0085797261173319e-01)\n",
    "theta[4]=(3.9448647653100538e-01)\n",
    "theta[5]=(4.8834507001446176e-01)\n",
    "theta[6]=(5.8232154226298205e-01)\n",
    "theta[7]=(6.7636624774980592e-01)\n",
    "theta[8]=(7.7045379329538033e-01)\n",
    "theta[9]=(8.6456980059992405e-01)\n",
    "theta[10]=(9.5870547867033806e-01)\n",
    "theta[11]=(1.0528551097550194e+00)\n",
    "theta[12]=(1.1470147717129116e+00)\n",
    "theta[13]=(1.2411816384217740e+00)\n",
    "theta[14]=(1.3353535712180300e+00)\n",
    "theta[15]=(1.4295288651748581e+00)\n",
    "theta[16]=(1.5237060805991613e+00)\n",
    "theta[17]=(1.6178839213697349e+00)\n",
    "theta[18]=(1.7120611368294620e+00)\n",
    "theta[19]=(1.8062364308597281e+00)\n",
    "theta[20]=(1.9004083637730380e+00)\n",
    "theta[21]=(1.9945752306521192e+00)\n",
    "theta[22]=(2.0887348928486547e+00)\n",
    "theta[23]=(2.1828845242645558e+00)\n",
    "theta[24]=(2.2770202027976305e+00)\n",
    "theta[25]=(2.3711362107610796e+00)\n",
    "theta[26]=(2.4652237572754663e+00)\n",
    "theta[27]=(2.5592684642544441e+00)\n",
    "theta[28]=(2.6532449389576471e+00)\n",
    "theta[29]=(2.7471035368835244e+00)\n",
    "theta[30]=(2.8407320501099207e+00)\n",
    "theta[31]=(2.9338113105503498e+00)\n",
    "theta[32]=(3.0249282139086842e+00)\n",
    "theta[33]=(3.0787641928985394e+00)"
   ]
  },
  {
   "cell_type": "raw",
   "metadata": {},
   "source": [
    "radius=[]\n",
    "radius.append(2.1472816004449802e-03)\n",
    "radius.append(2.3816359872343624e-03)\n",
    "radius.append(2.6394263579540942e-03)\n",
    "radius.append(2.9229962499508154e-03)\n",
    "radius.append(3.2349235619266226e-03)\n",
    "radius.append(3.5780439890243433e-03)\n",
    "radius.append(3.9554768014853255e-03)\n",
    "radius.append(4.3706532013719993e-03)\n",
    "radius.append(4.8273475150658772e-03)\n",
    "radius.append(5.3297115051605176e-03)\n",
    "radius.append(5.8823121136841270e-03)\n",
    "radius.append(6.4901729794954377e-03)\n",
    "radius.append(7.1588201077751679e-03)\n",
    "radius.append(7.8943321062620083e-03)\n",
    "radius.append(8.7033954452591655e-03)\n",
    "radius.append(9.5933652436989165e-03)\n",
    "radius.append(1.0572332133823277e-02)\n",
    "radius.append(1.1649195812369069e-02)\n",
    "radius.append(1.2833745946736461e-02)\n",
    "radius.append(1.4136751172041296e-02)\n",
    "radius.append(1.5570056987750054e-02)\n",
    "radius.append(1.7146693443950048e-02)\n",
    "radius.append(1.8880993596364481e-02)\n",
    "radius.append(2.0788723806818309e-02)\n",
    "radius.append(2.2887227073767797e-02)\n",
    "radius.append(2.5195580695874804e-02)\n",
    "radius.append(2.7734769701934760e-02)\n",
    "radius.append(3.0527877623890066e-02)\n",
    "radius.append(3.3600296347023169e-02)\n",
    "radius.append(3.6979956945233053e-02)\n",
    "radius.append(4.0697583599854759e-02)\n",
    "radius.append(4.4786972910362821e-02)\n",
    "radius.append(4.9285301136080636e-02)\n",
    "radius.append(5.4233462162135232e-02)\n",
    "radius.append(5.9676439261971276e-02)\n",
    "radius.append(6.5663714036125836e-02)\n",
    "radius.append(7.2249716244878415e-02)\n",
    "radius.append(7.9494318624129354e-02)\n",
    "radius.append(8.7463381182909375e-02)\n",
    "radius.append(9.6229349930630731e-02)\n",
    "radius.append(1.0587191547707989e-01)\n",
    "radius.append(1.1647873749228951e-01)\n",
    "radius.append(1.2814624161254104e-01)\n",
    "radius.append(1.4098049603685231e-01)\n",
    "radius.append(1.5509817578314677e-01)\n",
    "radius.append(1.7062762337008680e-01)\n",
    "radius.append(1.8771001556697667e-01)\n",
    "radius.append(2.0650064681867286e-01)\n",
    "radius.append(2.2717034101300912e-01)\n",
    "radius.append(2.4990700442499786e-01)\n",
    "radius.append(2.7491733395527918e-01)\n",
    "radius.append(3.0242869619254253e-01)\n",
    "radius.append(3.3269119438208239e-01)\n",
    "radius.append(3.6597994209132034e-01)\n",
    "radius.append(4.0259756424163512e-01)\n",
    "radius.append(4.4287694824353330e-01)\n",
    "radius.append(4.8718427024537747e-01)\n",
    "radius.append(5.3592232400662421e-01)\n",
    "radius.append(5.8953418265866442e-01)\n",
    "radius.append(6.4850722664168237e-01)\n",
    "radius.append(7.1337757443499628e-01)\n",
    "radius.append(7.8473495636050017e-01)\n",
    "radius.append(8.6322807576640503e-01)\n",
    "radius.append(9.4957050632925655e-01)\n",
    "radius.append(1.0445471790861305e+00)\n",
    "radius.append(1.1490215181699865e+00)\n",
    "radius.append(1.2639432901184522e+00)\n",
    "radius.append(1.3903572381134435e+00)\n",
    "radius.append(1.5294125796445894e+00)\n",
    "radius.append(1.6823734539390154e+00)\n",
    "radius.append(1.8506304141339449e+00)\n",
    "radius.append(2.0357130686663920e+00)\n",
    "radius.append(2.2393039868018034e+00)\n",
    "radius.append(2.4632539947153509e+00)\n",
    "radius.append(2.7095990011812008e+00)\n",
    "radius.append(2.9805785058305818e+00)\n",
    "radius.append(3.2786559582354857e+00)\n",
    "radius.append(3.6065411529004581e+00)\n",
    "radius.append(3.9672148637533748e+00)\n",
    "radius.append(4.3639559420851253e+00)\n",
    "radius.append(4.8003711242829050e+00)\n",
    "radius.append(5.2804278203365680e+00)\n",
    "radius.append(5.8084901811952125e+00)\n",
    "radius.append(6.3893587728592740e+00)\n",
    "radius.append(7.0283142178812481e+00)\n",
    "radius.append(7.7311652010160223e+00)\n",
    "radius.append(8.5043012754358998e+00)\n",
    "radius.append(9.3547509495665260e+00)\n",
    "radius.append(1.0290245582605840e+01)\n",
    "radius.append(1.1319289669594260e+01)\n",
    "radius.append(1.2451238154991177e+01)\n",
    "radius.append(1.3696381477608369e+01)\n",
    "radius.append(1.5066039120035954e+01)\n",
    "radius.append(1.6572662513009821e+01)\n",
    "radius.append(1.8229948230214866e+01)\n",
    "radius.append(2.0052962502567620e+01)\n",
    "radius.append(2.2058278183925555e+01)\n",
    "radius.append(2.4264125413366212e+01)\n",
    "radius.append(2.6690557343692490e+01)\n",
    "radius.append(2.9359632442787131e+01)\n",
    "radius.append(3.2295615025100496e+01)\n",
    "radius.append(3.5525195836285405e+01)\n",
    "radius.append(3.9077734696293014e+01)\n",
    "radius.append(4.2985527406776107e+01)\n",
    "radius.append(4.7284099349229550e+01)\n",
    "radius.append(5.2012528442942603e+01)\n",
    "radius.append(5.7213800398742784e+01)\n",
    "radius.append(6.2935199498110258e+01)\n",
    "radius.append(6.9228738450200410e+01)\n",
    "radius.append(7.6151631234564263e+01)\n",
    "radius.append(8.3766813228135632e+01)\n",
    "radius.append(9.2143513344912250e+01)\n",
    "radius.append(1.0135788338959961e+02)\n",
    "radius.append(1.1149369034661200e+02)\n",
    "radius.append(1.2264307789796757e+02)\n",
    "radius.append(1.3490740409296481e+02)\n",
    "radius.append(1.4839816278481851e+02)\n",
    "radius.append(1.6323799721095008e+02)\n",
    "radius.append(1.7956181493129625e+02)\n",
    "radius.append(1.9751801426043912e+02)\n",
    "radius.append(2.1726983334293422e+02)\n",
    "radius.append(2.3899683413616057e+02)\n",
    "radius.append(2.6289653479143954e+02)\n",
    "radius.append(2.8918620527324964e+02)"
   ]
  }
 ],
 "metadata": {
  "kernelspec": {
   "display_name": "Python 3",
   "language": "python",
   "name": "python3"
  },
  "language_info": {
   "codemirror_mode": {
    "name": "ipython",
    "version": 3
   },
   "file_extension": ".py",
   "mimetype": "text/x-python",
   "name": "python",
   "nbconvert_exporter": "python",
   "pygments_lexer": "ipython3",
   "version": "3.7.4"
  }
 },
 "nbformat": 4,
 "nbformat_minor": 4
}
